{
 "cells": [
  {
   "cell_type": "code",
   "execution_count": 1,
   "id": "9d7fb9fe",
   "metadata": {},
   "outputs": [],
   "source": [
    "import os\n",
    "import shutil\n",
    "import pandas as pd\n",
    "import geopandas as gpd\n",
    "from shapely.geometry import Point"
   ]
  },
  {
   "cell_type": "markdown",
   "id": "005a3e14",
   "metadata": {},
   "source": [
    "Points to Shapefile\n",
    "In this tutorial we use geopandas library to convert points in CSV file into an ESRI shapefile"
   ]
  },
  {
   "cell_type": "code",
   "execution_count": 2,
   "id": "6d7bba5b",
   "metadata": {},
   "outputs": [
    {
     "data": {
      "text/html": [
       "<div>\n",
       "<style scoped>\n",
       "    .dataframe tbody tr th:only-of-type {\n",
       "        vertical-align: middle;\n",
       "    }\n",
       "\n",
       "    .dataframe tbody tr th {\n",
       "        vertical-align: top;\n",
       "    }\n",
       "\n",
       "    .dataframe thead th {\n",
       "        text-align: right;\n",
       "    }\n",
       "</style>\n",
       "<table border=\"1\" class=\"dataframe\">\n",
       "  <thead>\n",
       "    <tr style=\"text-align: right;\">\n",
       "      <th></th>\n",
       "      <th>Lon</th>\n",
       "      <th>Lat</th>\n",
       "      <th>Value</th>\n",
       "    </tr>\n",
       "  </thead>\n",
       "  <tbody>\n",
       "    <tr>\n",
       "      <th>0</th>\n",
       "      <td>-88.864</td>\n",
       "      <td>40.444</td>\n",
       "      <td>A</td>\n",
       "    </tr>\n",
       "    <tr>\n",
       "      <th>1</th>\n",
       "      <td>-88.924</td>\n",
       "      <td>40.603</td>\n",
       "      <td>B</td>\n",
       "    </tr>\n",
       "    <tr>\n",
       "      <th>2</th>\n",
       "      <td>-88.592</td>\n",
       "      <td>40.120</td>\n",
       "      <td>C</td>\n",
       "    </tr>\n",
       "    <tr>\n",
       "      <th>3</th>\n",
       "      <td>-89.174</td>\n",
       "      <td>40.302</td>\n",
       "      <td>D</td>\n",
       "    </tr>\n",
       "  </tbody>\n",
       "</table>\n",
       "</div>"
      ],
      "text/plain": [
       "      Lon     Lat Value\n",
       "0 -88.864  40.444     A\n",
       "1 -88.924  40.603     B\n",
       "2 -88.592  40.120     C\n",
       "3 -89.174  40.302     D"
      ]
     },
     "execution_count": 2,
     "metadata": {},
     "output_type": "execute_result"
    }
   ],
   "source": [
    "datafile = \"D:/X/Points.csv\"\n",
    "df = pd.read_table(datafile, sep=',')\n",
    "df.head()"
   ]
  },
  {
   "cell_type": "code",
   "execution_count": 3,
   "id": "0046dcd4",
   "metadata": {},
   "outputs": [
    {
     "name": "stderr",
     "output_type": "stream",
     "text": [
      "C:\\Users\\ASUS\\AppData\\Roaming\\Python\\Python311\\site-packages\\pyproj\\crs\\crs.py:130: FutureWarning: '+init=<authority>:<code>' syntax is deprecated. '<authority>:<code>' is the preferred initialization method. When making the change, be mindful of axis order changes: https://pyproj4.github.io/pyproj/stable/gotchas.html#axis-order-changes-in-proj-6\n",
      "  in_crs_string = _prepare_from_proj_string(in_crs_string)\n"
     ]
    },
    {
     "data": {
      "text/html": [
       "<div>\n",
       "<style scoped>\n",
       "    .dataframe tbody tr th:only-of-type {\n",
       "        vertical-align: middle;\n",
       "    }\n",
       "\n",
       "    .dataframe tbody tr th {\n",
       "        vertical-align: top;\n",
       "    }\n",
       "\n",
       "    .dataframe thead th {\n",
       "        text-align: right;\n",
       "    }\n",
       "</style>\n",
       "<table border=\"1\" class=\"dataframe\">\n",
       "  <thead>\n",
       "    <tr style=\"text-align: right;\">\n",
       "      <th></th>\n",
       "      <th>Lon</th>\n",
       "      <th>Lat</th>\n",
       "      <th>Value</th>\n",
       "      <th>geometry</th>\n",
       "    </tr>\n",
       "  </thead>\n",
       "  <tbody>\n",
       "    <tr>\n",
       "      <th>0</th>\n",
       "      <td>-88.864</td>\n",
       "      <td>40.444</td>\n",
       "      <td>A</td>\n",
       "      <td>POINT (-88.86400 40.44400)</td>\n",
       "    </tr>\n",
       "    <tr>\n",
       "      <th>1</th>\n",
       "      <td>-88.924</td>\n",
       "      <td>40.603</td>\n",
       "      <td>B</td>\n",
       "      <td>POINT (-88.92400 40.60300)</td>\n",
       "    </tr>\n",
       "    <tr>\n",
       "      <th>2</th>\n",
       "      <td>-88.592</td>\n",
       "      <td>40.120</td>\n",
       "      <td>C</td>\n",
       "      <td>POINT (-88.59200 40.12000)</td>\n",
       "    </tr>\n",
       "    <tr>\n",
       "      <th>3</th>\n",
       "      <td>-89.174</td>\n",
       "      <td>40.302</td>\n",
       "      <td>D</td>\n",
       "      <td>POINT (-89.17400 40.30200)</td>\n",
       "    </tr>\n",
       "  </tbody>\n",
       "</table>\n",
       "</div>"
      ],
      "text/plain": [
       "      Lon     Lat Value                    geometry\n",
       "0 -88.864  40.444     A  POINT (-88.86400 40.44400)\n",
       "1 -88.924  40.603     B  POINT (-88.92400 40.60300)\n",
       "2 -88.592  40.120     C  POINT (-88.59200 40.12000)\n",
       "3 -89.174  40.302     D  POINT (-89.17400 40.30200)"
      ]
     },
     "execution_count": 3,
     "metadata": {},
     "output_type": "execute_result"
    }
   ],
   "source": [
    "geometry = [Point(xy) for xy in zip(df.Lon, df.Lat)]\n",
    "crs = {'init': 'epsg:4326'}\n",
    "gdf = gpd.GeoDataFrame(df, crs=crs, geometry=geometry)\n",
    "gdf.head()"
   ]
  },
  {
   "cell_type": "markdown",
   "id": "def8b00f",
   "metadata": {},
   "source": [
    "After that, a list of point geometry is created from the Latitude and Longitude column of the dataframe.\n",
    "An appropriate CRS is taken.\n",
    "And a geodataframe is created from the dataframe, crs and geometry."
   ]
  },
  {
   "cell_type": "code",
   "execution_count": null,
   "id": "a8860695",
   "metadata": {},
   "outputs": [],
   "source": [
    "outdir = './Dataset/point_to_shapefile'\n",
    "if os.path.exists(outdir):\n",
    "    shutil.rmtree(outdir)\n",
    "os.makedirs(outdir)\n",
    "outfile = os.path.join(outdir, \"mypoints.shp\")\n",
    "gdf.to_file(outfile, driver='ESRI Shapefile')"
   ]
  }
 ],
 "metadata": {
  "kernelspec": {
   "display_name": "Python 3 (ipykernel)",
   "language": "python",
   "name": "python3"
  },
  "language_info": {
   "codemirror_mode": {
    "name": "ipython",
    "version": 3
   },
   "file_extension": ".py",
   "mimetype": "text/x-python",
   "name": "python",
   "nbconvert_exporter": "python",
   "pygments_lexer": "ipython3",
   "version": "3.11.3"
  }
 },
 "nbformat": 4,
 "nbformat_minor": 5
}
